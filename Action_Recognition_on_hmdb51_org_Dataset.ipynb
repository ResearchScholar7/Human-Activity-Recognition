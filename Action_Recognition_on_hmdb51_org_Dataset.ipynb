{
  "cells": [
    {
      "cell_type": "markdown",
      "metadata": {
        "id": "u6jXb-xxL0ok"
      },
      "source": [
        "# **<center>Introduction to Video Classification & Human Activity Recognition</center>**\n",
        "\n",
        "\n",
        "\n",
        "\n",
        "---\n",
        "\n",
        "\n",
        "\n",
        "---\n",
        "\n",
        "\n",
        "\n",
        "**Here are the steps I have performed:**\n",
        "\n",
        "- **Step 1: Download and Extract the Dataset**\n",
        "- **Step 2: Visualize the Data with its Labels**\n",
        "- **Step 3: Read and Preprocess the Dataset**\n",
        "- **Step 4: Split the Data into Train and Test Set**\n",
        "- **Step 5: Construct the Model**\n",
        "- **Step 6: Compile & Train the Model**\n",
        "- **Step 7: Plot Model’s Loss & Accuracy Curves**\n",
        "- **Step 8: Make Predictions with the Model**\n"
      ]
    },
    {
      "cell_type": "markdown",
      "metadata": {
        "id": "fbPNgrjUdH3G"
      },
      "source": [
        "## **Step 1 Download and Extract the Dataset**"
      ]
    },
    {
      "cell_type": "code",
      "execution_count": null,
      "metadata": {
        "colab": {
          "base_uri": "https://localhost:8080/"
        },
        "id": "PcILvhFJapS4",
        "outputId": "27d87413-c12d-45e2-dd85-4daf32ec9d60"
      },
      "outputs": [
        {
          "name": "stdout",
          "output_type": "stream",
          "text": [
            "hmdb51_org.rar  has been already downloaded\n"
          ]
        }
      ],
      "source": [
        "import os\n",
        "from tqdm import tqdm\n",
        "file_name='hmdb51_org.rar'\n",
        "if os.path.exists(file_name):\n",
        "  print(file_name, \" has been already downloaded\")\n",
        "else:\n",
        "  print(file_name, \" has Not downloaded Yet, Wait......\")\n",
        "  os.system(f\"\"\"wget -c --read-timeout=5 --tries=0 http://serre-lab.clps.brown.edu/wp-content/uploads/2013/10/hmdb51_org.rar\"\"\")"
      ]
    },
    {
      "cell_type": "code",
      "source": [
        "pip install imageio-ffmpeg"
      ],
      "metadata": {
        "colab": {
          "base_uri": "https://localhost:8080/"
        },
        "id": "fWl2ie4v1qDY",
        "outputId": "94ffcc06-cc38-4592-a3af-8327bfde52d5"
      },
      "execution_count": null,
      "outputs": [
        {
          "output_type": "stream",
          "name": "stdout",
          "text": [
            "Looking in indexes: https://pypi.org/simple, https://us-python.pkg.dev/colab-wheels/public/simple/\n",
            "Collecting imageio-ffmpeg\n",
            "  Downloading imageio_ffmpeg-0.4.7-py3-none-manylinux2010_x86_64.whl (26.9 MB)\n",
            "\u001b[K     |████████████████████████████████| 26.9 MB 1.5 MB/s \n",
            "\u001b[?25hInstalling collected packages: imageio-ffmpeg\n",
            "Successfully installed imageio-ffmpeg-0.4.7\n"
          ]
        }
      ]
    },
    {
      "cell_type": "code",
      "execution_count": null,
      "metadata": {
        "colab": {
          "base_uri": "https://localhost:8080/"
        },
        "id": "DD7Q9F0fes7n",
        "outputId": "483315c0-8df5-431a-a93d-bcbdcc41c679"
      },
      "outputs": [
        {
          "name": "stdout",
          "output_type": "stream",
          "text": [
            "Requirement already satisfied: unrar in c:\\users\\atul007\\anaconda3\\lib\\site-packages (0.4)\n"
          ]
        },
        {
          "name": "stderr",
          "output_type": "stream",
          "text": [
            "A subdirectory or file hmdb51_org already exists.\n"
          ]
        }
      ],
      "source": [
        "!pip install unrar\n",
        "!mkdir hmdb51_org"
      ]
    },
    {
      "cell_type": "code",
      "execution_count": null,
      "metadata": {
        "id": "tN_gacJTdaqw"
      },
      "outputs": [],
      "source": [
        "get_ipython().system_raw(\"unrar x hmdb51_org.rar hmdb51_org\")"
      ]
    },
    {
      "cell_type": "code",
      "execution_count": null,
      "metadata": {
        "colab": {
          "base_uri": "https://localhost:8080/"
        },
        "id": "-5KPTFiciiau",
        "outputId": "53c0dc2c-02c3-4195-ad02-3d2e3e600b22"
      },
      "outputs": [
        {
          "data": {
            "text/plain": [
              "['hmdb51_org/hmdb51_org\\\\brush_hair.rar',\n",
              " 'hmdb51_org/hmdb51_org\\\\cartwheel.rar',\n",
              " 'hmdb51_org/hmdb51_org\\\\catch.rar',\n",
              " 'hmdb51_org/hmdb51_org\\\\chew.rar',\n",
              " 'hmdb51_org/hmdb51_org\\\\clap.rar',\n",
              " 'hmdb51_org/hmdb51_org\\\\climb.rar',\n",
              " 'hmdb51_org/hmdb51_org\\\\climb_stairs.rar',\n",
              " 'hmdb51_org/hmdb51_org\\\\dive.rar',\n",
              " 'hmdb51_org/hmdb51_org\\\\draw_sword.rar',\n",
              " 'hmdb51_org/hmdb51_org\\\\dribble.rar',\n",
              " 'hmdb51_org/hmdb51_org\\\\drink.rar',\n",
              " 'hmdb51_org/hmdb51_org\\\\eat.rar',\n",
              " 'hmdb51_org/hmdb51_org\\\\fall_floor.rar',\n",
              " 'hmdb51_org/hmdb51_org\\\\fencing.rar',\n",
              " 'hmdb51_org/hmdb51_org\\\\flic_flac.rar',\n",
              " 'hmdb51_org/hmdb51_org\\\\golf.rar',\n",
              " 'hmdb51_org/hmdb51_org\\\\handstand.rar',\n",
              " 'hmdb51_org/hmdb51_org\\\\hit.rar',\n",
              " 'hmdb51_org/hmdb51_org\\\\hmdb51_org.rar',\n",
              " 'hmdb51_org/hmdb51_org\\\\hug.rar',\n",
              " 'hmdb51_org/hmdb51_org\\\\jump.rar',\n",
              " 'hmdb51_org/hmdb51_org\\\\kick.rar',\n",
              " 'hmdb51_org/hmdb51_org\\\\kick_ball.rar',\n",
              " 'hmdb51_org/hmdb51_org\\\\kiss.rar',\n",
              " 'hmdb51_org/hmdb51_org\\\\laugh.rar',\n",
              " 'hmdb51_org/hmdb51_org\\\\pick.rar',\n",
              " 'hmdb51_org/hmdb51_org\\\\pour.rar',\n",
              " 'hmdb51_org/hmdb51_org\\\\pullup.rar',\n",
              " 'hmdb51_org/hmdb51_org\\\\punch.rar',\n",
              " 'hmdb51_org/hmdb51_org\\\\push.rar',\n",
              " 'hmdb51_org/hmdb51_org\\\\pushup.rar',\n",
              " 'hmdb51_org/hmdb51_org\\\\ride_bike.rar',\n",
              " 'hmdb51_org/hmdb51_org\\\\ride_horse.rar',\n",
              " 'hmdb51_org/hmdb51_org\\\\run.rar',\n",
              " 'hmdb51_org/hmdb51_org\\\\shake_hands.rar',\n",
              " 'hmdb51_org/hmdb51_org\\\\shoot_ball.rar',\n",
              " 'hmdb51_org/hmdb51_org\\\\shoot_bow.rar',\n",
              " 'hmdb51_org/hmdb51_org\\\\shoot_gun.rar',\n",
              " 'hmdb51_org/hmdb51_org\\\\sit.rar',\n",
              " 'hmdb51_org/hmdb51_org\\\\situp.rar',\n",
              " 'hmdb51_org/hmdb51_org\\\\smile.rar',\n",
              " 'hmdb51_org/hmdb51_org\\\\smoke.rar',\n",
              " 'hmdb51_org/hmdb51_org\\\\somersault.rar',\n",
              " 'hmdb51_org/hmdb51_org\\\\stand.rar',\n",
              " 'hmdb51_org/hmdb51_org\\\\swing_baseball.rar',\n",
              " 'hmdb51_org/hmdb51_org\\\\sword.rar',\n",
              " 'hmdb51_org/hmdb51_org\\\\sword_exercise.rar',\n",
              " 'hmdb51_org/hmdb51_org\\\\talk.rar',\n",
              " 'hmdb51_org/hmdb51_org\\\\throw.rar',\n",
              " 'hmdb51_org/hmdb51_org\\\\turn.rar',\n",
              " 'hmdb51_org/hmdb51_org\\\\walk.rar',\n",
              " 'hmdb51_org/hmdb51_org\\\\wave.rar']"
            ]
          },
          "execution_count": 38,
          "metadata": {},
          "output_type": "execute_result"
        }
      ],
      "source": [
        "import glob as g\n",
        "path=r'hmdb51_org/hmdb51_org/'\n",
        "data_files = []\n",
        "for i in g.glob( path+ '*.rar',recursive=True):\n",
        "    data_files.append(i)\n",
        "data_files"
      ]
    },
    {
      "cell_type": "code",
      "execution_count": null,
      "metadata": {
        "colab": {
          "base_uri": "https://localhost:8080/"
        },
        "id": "NyqXQrbEmJ5p",
        "outputId": "d04408d5-891b-4063-ae49-241ad873cb9c"
      },
      "outputs": [
        {
          "name": "stderr",
          "output_type": "stream",
          "text": [
            "100%|█████████████████████████████████████████████████████████████████████████████████████████████████████████████████████████████████████████████████████████████████████████████| 52/52 [00:01<00:00, 38.44it/s]\n"
          ]
        }
      ],
      "source": [
        "for file in tqdm(data_files):\n",
        "  get_ipython().system_raw(\"unrar x {} hmdb51_org\".format(file))\n",
        "  os.remove(file)\n"
      ]
    },
    {
      "cell_type": "markdown",
      "metadata": {
        "id": "RiAMJx7tr5-I"
      },
      "source": [
        "#### **Import Required Libraries:**\n",
        "Start by importing all required libraries."
      ]
    },
    {
      "cell_type": "code",
      "execution_count": null,
      "metadata": {
        "colab": {
          "base_uri": "https://localhost:8080/"
        },
        "id": "fRa_N8Gv1eJO",
        "outputId": "08eb3d00-06f2-4409-b183-1a44e0d5c0f1"
      },
      "outputs": [
        {
          "output_type": "stream",
          "name": "stdout",
          "text": [
            "Looking in indexes: https://pypi.org/simple, https://us-python.pkg.dev/colab-wheels/public/simple/\n",
            "Requirement already satisfied: opencv-python in /usr/local/lib/python3.7/dist-packages (4.6.0.66)\n",
            "Requirement already satisfied: numpy>=1.14.5 in /usr/local/lib/python3.7/dist-packages (from opencv-python) (1.21.6)\n"
          ]
        }
      ],
      "source": [
        "pip install opencv-python\n"
      ]
    },
    {
      "cell_type": "code",
      "execution_count": null,
      "metadata": {
        "colab": {
          "base_uri": "https://localhost:8080/"
        },
        "id": "1PTFOBff1eJP",
        "outputId": "c92f42db-1442-48ed-a531-a70ad0467f6b"
      },
      "outputs": [
        {
          "output_type": "stream",
          "name": "stdout",
          "text": [
            "Looking in indexes: https://pypi.org/simple, https://us-python.pkg.dev/colab-wheels/public/simple/\n",
            "Requirement already satisfied: moviepy in /usr/local/lib/python3.7/dist-packages (0.2.3.5)\n",
            "Requirement already satisfied: numpy in /usr/local/lib/python3.7/dist-packages (from moviepy) (1.21.6)\n",
            "Requirement already satisfied: imageio<3.0,>=2.1.2 in /usr/local/lib/python3.7/dist-packages (from moviepy) (2.9.0)\n",
            "Requirement already satisfied: tqdm<5.0,>=4.11.2 in /usr/local/lib/python3.7/dist-packages (from moviepy) (4.64.0)\n",
            "Requirement already satisfied: decorator<5.0,>=4.0.2 in /usr/local/lib/python3.7/dist-packages (from moviepy) (4.4.2)\n",
            "Requirement already satisfied: pillow in /usr/local/lib/python3.7/dist-packages (from imageio<3.0,>=2.1.2->moviepy) (7.1.2)\n"
          ]
        }
      ],
      "source": [
        "pip install moviepy"
      ]
    },
    {
      "cell_type": "code",
      "execution_count": null,
      "metadata": {
        "id": "X3AdbpZFCRR0",
        "colab": {
          "base_uri": "https://localhost:8080/",
          "height": 427
        },
        "outputId": "46726f02-b57c-49d3-c657-08d89e0c8a15"
      },
      "outputs": [
        {
          "output_type": "error",
          "ename": "RuntimeError",
          "evalue": "ignored",
          "traceback": [
            "\u001b[0;31m---------------------------------------------------------------------------\u001b[0m",
            "\u001b[0;31mRuntimeError\u001b[0m                              Traceback (most recent call last)",
            "\u001b[0;32m<ipython-input-5-971ead697cb8>\u001b[0m in \u001b[0;36m<module>\u001b[0;34m\u001b[0m\n\u001b[1;32m      6\u001b[0m \u001b[0;32mimport\u001b[0m \u001b[0mdatetime\u001b[0m \u001b[0;32mas\u001b[0m \u001b[0mdt\u001b[0m\u001b[0;34m\u001b[0m\u001b[0;34m\u001b[0m\u001b[0m\n\u001b[1;32m      7\u001b[0m \u001b[0;32mimport\u001b[0m \u001b[0mtensorflow\u001b[0m \u001b[0;32mas\u001b[0m \u001b[0mtf\u001b[0m\u001b[0;34m\u001b[0m\u001b[0;34m\u001b[0m\u001b[0m\n\u001b[0;32m----> 8\u001b[0;31m \u001b[0;32mfrom\u001b[0m \u001b[0mmoviepy\u001b[0m\u001b[0;34m.\u001b[0m\u001b[0meditor\u001b[0m \u001b[0;32mimport\u001b[0m \u001b[0;34m*\u001b[0m\u001b[0;34m\u001b[0m\u001b[0;34m\u001b[0m\u001b[0m\n\u001b[0m\u001b[1;32m      9\u001b[0m \u001b[0;32mfrom\u001b[0m \u001b[0mcollections\u001b[0m \u001b[0;32mimport\u001b[0m \u001b[0mdeque\u001b[0m\u001b[0;34m\u001b[0m\u001b[0;34m\u001b[0m\u001b[0m\n\u001b[1;32m     10\u001b[0m \u001b[0;32mimport\u001b[0m \u001b[0mmatplotlib\u001b[0m\u001b[0;34m.\u001b[0m\u001b[0mpyplot\u001b[0m \u001b[0;32mas\u001b[0m \u001b[0mplt\u001b[0m\u001b[0;34m\u001b[0m\u001b[0;34m\u001b[0m\u001b[0m\n",
            "\u001b[0;32m/usr/local/lib/python3.7/dist-packages/moviepy/editor.py\u001b[0m in \u001b[0;36m<module>\u001b[0;34m\u001b[0m\n\u001b[1;32m     24\u001b[0m \u001b[0;31m# Checks to see if the user has set a place for their own version of ffmpeg\u001b[0m\u001b[0;34m\u001b[0m\u001b[0;34m\u001b[0m\u001b[0;34m\u001b[0m\u001b[0m\n\u001b[1;32m     25\u001b[0m \u001b[0;32mif\u001b[0m \u001b[0mos\u001b[0m\u001b[0;34m.\u001b[0m\u001b[0mgetenv\u001b[0m\u001b[0;34m(\u001b[0m\u001b[0;34m'FFMPEG_BINARY'\u001b[0m\u001b[0;34m,\u001b[0m \u001b[0;34m'ffmpeg-imageio'\u001b[0m\u001b[0;34m)\u001b[0m \u001b[0;34m==\u001b[0m \u001b[0;34m'ffmpeg-imageio'\u001b[0m\u001b[0;34m:\u001b[0m\u001b[0;34m\u001b[0m\u001b[0;34m\u001b[0m\u001b[0m\n\u001b[0;32m---> 26\u001b[0;31m     \u001b[0mimageio\u001b[0m\u001b[0;34m.\u001b[0m\u001b[0mplugins\u001b[0m\u001b[0;34m.\u001b[0m\u001b[0mffmpeg\u001b[0m\u001b[0;34m.\u001b[0m\u001b[0mdownload\u001b[0m\u001b[0;34m(\u001b[0m\u001b[0;34m)\u001b[0m\u001b[0;34m\u001b[0m\u001b[0;34m\u001b[0m\u001b[0m\n\u001b[0m\u001b[1;32m     27\u001b[0m \u001b[0;34m\u001b[0m\u001b[0m\n\u001b[1;32m     28\u001b[0m \u001b[0;31m# Clips\u001b[0m\u001b[0;34m\u001b[0m\u001b[0;34m\u001b[0m\u001b[0;34m\u001b[0m\u001b[0m\n",
            "\u001b[0;32m/usr/local/lib/python3.7/dist-packages/imageio/plugins/ffmpeg.py\u001b[0m in \u001b[0;36mdownload\u001b[0;34m(directory, force_download)\u001b[0m\n\u001b[1;32m     36\u001b[0m \u001b[0;32mdef\u001b[0m \u001b[0mdownload\u001b[0m\u001b[0;34m(\u001b[0m\u001b[0mdirectory\u001b[0m\u001b[0;34m=\u001b[0m\u001b[0;32mNone\u001b[0m\u001b[0;34m,\u001b[0m \u001b[0mforce_download\u001b[0m\u001b[0;34m=\u001b[0m\u001b[0;32mFalse\u001b[0m\u001b[0;34m)\u001b[0m\u001b[0;34m:\u001b[0m  \u001b[0;31m# pragma: no cover\u001b[0m\u001b[0;34m\u001b[0m\u001b[0;34m\u001b[0m\u001b[0m\n\u001b[1;32m     37\u001b[0m     raise RuntimeError(\n\u001b[0;32m---> 38\u001b[0;31m         \u001b[0;34m\"imageio.ffmpeg.download() has been deprecated. \"\u001b[0m\u001b[0;34m\u001b[0m\u001b[0;34m\u001b[0m\u001b[0m\n\u001b[0m\u001b[1;32m     39\u001b[0m         \u001b[0;34m\"Use 'pip install imageio-ffmpeg' instead.'\"\u001b[0m\u001b[0;34m\u001b[0m\u001b[0;34m\u001b[0m\u001b[0m\n\u001b[1;32m     40\u001b[0m     )\n",
            "\u001b[0;31mRuntimeError\u001b[0m: imageio.ffmpeg.download() has been deprecated. Use 'pip install imageio-ffmpeg' instead.'"
          ]
        }
      ],
      "source": [
        "import os\n",
        "import cv2\n",
        "import math\n",
        "import random\n",
        "import numpy as np\n",
        "import datetime as dt\n",
        "import tensorflow as tf\n",
        "from moviepy.editor import *\n",
        "from collections import deque\n",
        "import matplotlib.pyplot as plt\n",
        "%matplotlib inline\n",
        "\n",
        "from sklearn.model_selection import train_test_split\n",
        "from sklearn.metrics import classification_report,confusion_matrix\n",
        "from tensorflow.keras.layers import *\n",
        "from tensorflow.keras.models import Sequential\n",
        "from tensorflow.keras.utils import to_categorical\n",
        "from tensorflow.keras.callbacks import EarlyStopping\n",
        "from tensorflow.keras.utils import plot_model"
      ]
    },
    {
      "cell_type": "markdown",
      "metadata": {
        "id": "jT1dZY7cD3Ro"
      },
      "source": [
        "**Set Numpy, Python & Tensorflow seeds to get consistent results.**"
      ]
    },
    {
      "cell_type": "code",
      "execution_count": null,
      "metadata": {
        "id": "3pEI_v7HD1WV"
      },
      "outputs": [],
      "source": [
        "seed_constant = 23\n",
        "np.random.seed(seed_constant)\n",
        "random.seed(seed_constant)\n",
        "tf.random.set_seed(seed_constant)"
      ]
    },
    {
      "cell_type": "markdown",
      "metadata": {
        "id": "_FM1bpIeC29Z"
      },
      "source": [
        "## **Step 2: Visualize the Data with its Labels**\n",
        "Let's pick some random videos from each class of the dataset and display it, this will give us a good overview of how the dataset look like."
      ]
    },
    {
      "cell_type": "code",
      "execution_count": null,
      "metadata": {
        "colab": {
          "base_uri": "https://localhost:8080/",
          "height": 242
        },
        "id": "oQnKb7fbC2aq",
        "outputId": "fecfc02f-6811-43b2-f6e6-65df9e655357"
      },
      "outputs": [
        {
          "output_type": "error",
          "ename": "NameError",
          "evalue": "ignored",
          "traceback": [
            "\u001b[0;31m---------------------------------------------------------------------------\u001b[0m",
            "\u001b[0;31mNameError\u001b[0m                                 Traceback (most recent call last)",
            "\u001b[0;32m<ipython-input-7-a3af6042fea3>\u001b[0m in \u001b[0;36m<module>\u001b[0;34m\u001b[0m\n\u001b[1;32m      1\u001b[0m \u001b[0;31m# Create a Matplotlib figure\u001b[0m\u001b[0;34m\u001b[0m\u001b[0;34m\u001b[0m\u001b[0;34m\u001b[0m\u001b[0m\n\u001b[0;32m----> 2\u001b[0;31m \u001b[0mplt\u001b[0m\u001b[0;34m.\u001b[0m\u001b[0mfigure\u001b[0m\u001b[0;34m(\u001b[0m\u001b[0mfigsize\u001b[0m \u001b[0;34m=\u001b[0m \u001b[0;34m(\u001b[0m\u001b[0;36m20\u001b[0m\u001b[0;34m,\u001b[0m \u001b[0;36m20\u001b[0m\u001b[0;34m)\u001b[0m\u001b[0;34m)\u001b[0m\u001b[0;34m\u001b[0m\u001b[0;34m\u001b[0m\u001b[0m\n\u001b[0m\u001b[1;32m      3\u001b[0m \u001b[0;34m\u001b[0m\u001b[0m\n\u001b[1;32m      4\u001b[0m \u001b[0;31m# Get Names of all classes in hmdb51_org\u001b[0m\u001b[0;34m\u001b[0m\u001b[0;34m\u001b[0m\u001b[0;34m\u001b[0m\u001b[0m\n\u001b[1;32m      5\u001b[0m \u001b[0mall_classes_names\u001b[0m \u001b[0;34m=\u001b[0m \u001b[0mos\u001b[0m\u001b[0;34m.\u001b[0m\u001b[0mlistdir\u001b[0m\u001b[0;34m(\u001b[0m\u001b[0;34m'hmdb51_org'\u001b[0m\u001b[0;34m)\u001b[0m\u001b[0;34m\u001b[0m\u001b[0;34m\u001b[0m\u001b[0m\n",
            "\u001b[0;31mNameError\u001b[0m: name 'plt' is not defined"
          ]
        }
      ],
      "source": [
        "# Create a Matplotlib figure\n",
        "plt.figure(figsize = (20, 20))\n",
        "\n",
        "# Get Names of all classes in hmdb51_org\n",
        "all_classes_names = os.listdir('hm')\n",
        "\n",
        "# Generate a random sample of images each time the cell runs\n",
        "random_range = random.sample(range(len(all_classes_names)), 51)\n",
        "\n",
        "# Iterating through all the random samples\n",
        "for counter, random_index in enumerate(random_range, 1):\n",
        "\n",
        "    # Getting Class Name using Random Index\n",
        "    selected_class_Name = all_classes_names[random_index]\n",
        "\n",
        "    # Getting a list of all the video files present in a Class Directory\n",
        "    video_files_names_list = os.listdir(f'hmdb51_org/{selected_class_Name}')\n",
        "\n",
        "    # Randomly selecting a video file\n",
        "    selected_video_file_name = random.choice(video_files_names_list)\n",
        "\n",
        "    # Reading the Video File Using the Video Capture\n",
        "    video_reader = cv2.VideoCapture(f'hmdb51_org/{selected_class_Name}/{selected_video_file_name}')\n",
        "\n",
        "    # Reading The First Frame of the Video File\n",
        "    _, bgr_frame = video_reader.read()\n",
        "\n",
        "    # Closing the VideoCapture object and releasing all resources.\n",
        "    video_reader.release()\n",
        "\n",
        "    # Converting the BGR Frame to RGB Frame\n",
        "    rgb_frame = cv2.cvtColor(bgr_frame, cv2.COLOR_BGR2RGB)\n",
        "\n",
        "    # Adding The Class Name Text on top of the Video Frame.\n",
        "    cv2.putText(rgb_frame, selected_class_Name, (10, 30), cv2.FONT_HERSHEY_SIMPLEX, 1, (255, 0, 0), 2)\n",
        "\n",
        "    # Assigning the Frame to a specific position of a subplot\n",
        "    plt.subplot(11, 5, counter)\n",
        "    plt.imshow(rgb_frame)\n",
        "    plt.axis('off')"
      ]
    },
    {
      "cell_type": "markdown",
      "metadata": {
        "id": "35mPPJndwgVC"
      },
      "source": [
        "## **Step 3: Read & Preprocess the Dataset**\n",
        "\n",
        "Since we're going to use a classification architecture to train on a video classification dataset, we're goiing to need to preprocess the dataset first.\n",
        "\n",
        "Now w constants,\n",
        "- **`image_height`** and **`image_weight`**: This is the size we will resize all frames of the video to, we're doing this to avoid unneccsary computation.\n",
        "\n",
        "- **`max_images_per_class`**: Maximum number of training images allowed for each class.\n",
        "\n",
        "- **`dataset_directory`**: The path of the directory containing the extracted dataset.\n",
        "\n",
        "- **`classes_list`**: These are the list of classes we're going to be training on, we're traninng on following 50 classes.\n",
        "  - *eat*\n",
        "  - *fall_floor*\n",
        "  - *fencing*\n",
        "  - *flic_flac*\n",
        "  - *golf*\n",
        "  - *handstand*\n",
        "  - *hit*\n",
        "  - *hug*\n",
        "  - *jump*\n",
        "  - *kick*\n",
        "  - *kick_ball*\n",
        "  - *kiss*\n",
        "  - *laugh*\n",
        "  - *catch*\n",
        "  - *clap*\n",
        "  - *walk*\n",
        "  - *stand*\n",
        "  - *pick*\n",
        "  - *pour*\n",
        "  - **\n",
        "  - **\n",
        "\n",
        "\n",
        "\n",
        "**Note:** The `image_height`, `image_weight` and `max_images_per_class` constants may be increased for better results, but be warned this will become computationally expensive."
      ]
    },
    {
      "cell_type": "code",
      "execution_count": null,
      "metadata": {
        "id": "gb4Fv7Ag-kwb"
      },
      "outputs": [],
      "source": [
        "image_height, image_width = 64, 64\n",
        "max_images_per_class = 2000\n",
        "#\n",
        "#,\\\n",
        "#               \\\n",
        "#\n",
        "dataset_directory = \"hmdb51_org\"\n",
        "classes_list = [ 'eat', 'fall_floor', 'fencing', 'flic_flac', 'golf', 'handstand', 'sword', 'sword_exercise', 'walk', 'hit', 'shoot_ball', 'shoot_bow', 'shoot_gun', 'sit', 'situp', 'smile', 'smoke', 'somersault', 'stand', 'swing_baseball', 'hug', 'jump', 'kick', 'kick_ball','kiss', 'laugh', 'pick', 'pour', 'brush_hair','cartwheel', 'catch', 'chew', 'clap', 'climb', 'climb_stairs', 'dive', 'draw_sword', 'dribble','drink', 'pullup', 'punch', 'push', 'pushup', 'ride_bike', 'ride_horse', 'run', 'shake_hands']\n",
        "\n",
        "model_output_size = len(classes_list)"
      ]
    },
    {
      "cell_type": "markdown",
      "metadata": {
        "id": "_v6w2EzbvhRg"
      },
      "source": [
        "### **Extract, Resize & Normalize Frames**\n",
        "\n",
        "\n",
        "Now we'll create a function that will extract frames from each video while performing other preprocessing operation like resizing and normalizing images.\n",
        "\n",
        "This method takes a video file path as input. It then reads the video file frame by frame, resizes each frame, normalizes the resized frame, appends the normalized frame into a list and then finally returns that list."
      ]
    },
    {
      "cell_type": "code",
      "execution_count": null,
      "metadata": {
        "id": "zBu224OG-szz"
      },
      "outputs": [],
      "source": [
        "def frames_extraction(video_path):\n",
        "    # Empty List declared to store video frames\n",
        "    frames_list = []\n",
        "\n",
        "    # Reading the Video File Using the VideoCapture\n",
        "    video_reader = cv2.VideoCapture(video_path)\n",
        "\n",
        "    # Iterating through Video Frames\n",
        "    while True:\n",
        "\n",
        "        # Reading a frame from the video file\n",
        "        success, frame = video_reader.read()\n",
        "\n",
        "        # If Video frame was not successfully read then break the loop\n",
        "        if not success:\n",
        "            break\n",
        "\n",
        "        # Resize the Frame to fixed Dimensions\n",
        "        resized_frame = cv2.resize(frame, (image_height, image_width))\n",
        "\n",
        "        # Normalize the resized frame by dividing it with 255 so that each pixel value then lies between 0 and 1\n",
        "        normalized_frame = resized_frame / 255\n",
        "\n",
        "        # Appending the normalized frame into the frames list\n",
        "        frames_list.append(normalized_frame)\n",
        "\n",
        "    # Closing the VideoCapture object and releasing all resources.\n",
        "    video_reader.release()\n",
        "\n",
        "    # returning the frames list\n",
        "    return frames_list"
      ]
    },
    {
      "cell_type": "markdown",
      "metadata": {
        "id": "fL6Y0VupxLom"
      },
      "source": [
        "### **Dataset Creation**\n",
        "l created another function called  **`create_dataset()`**,  this function uses the **`frame_extraction()`** funciton above and creates our final preprocessed dataset.\n",
        "\n",
        "**Here's how this function works:**\n",
        "\n",
        "1.   Iterate through all the classes mentioned in the `classes_list`\n",
        "2.   Now for each class iterate through all the video files present in it.\n",
        "3.   Call the **frame_extraction** method on each video file.\n",
        "4.   Add the returned frames to a list called `temp_features`\n",
        "5.   After all videos of a class are processed, randomly select video frames (equal to **max_images_per_class**) and add them to the list called `features`.\n",
        "6.   Add labels of the selected videos to the labels list.\n",
        "7.   After all videos of all classes are processed then return the features and labels as numpy arrays.\n",
        "\n",
        "\n",
        "So when you call this function, it returns **2** lists:\n",
        "- a list of feature vectors\n",
        "- a list of it's associated labels.\n"
      ]
    },
    {
      "cell_type": "code",
      "execution_count": null,
      "metadata": {
        "colab": {
          "base_uri": "https://localhost:8080/",
          "height": 35
        },
        "id": "b4gmOHQcPZjc",
        "outputId": "f4c8137e-071b-4b5a-d224-cb85e803c41b"
      },
      "outputs": [
        {
          "data": {
            "text/plain": [
              "'hmdb51_org'"
            ]
          },
          "execution_count": 47,
          "metadata": {},
          "output_type": "execute_result"
        }
      ],
      "source": [
        "dataset_directory"
      ]
    },
    {
      "cell_type": "code",
      "execution_count": null,
      "metadata": {
        "id": "j6MLp9PpDJ4-"
      },
      "outputs": [],
      "source": [
        "def create_dataset():\n",
        "\n",
        "    # Declaring Empty Lists to store the features and labels values.\n",
        "    temp_features = []\n",
        "    features = []\n",
        "    labels = []\n",
        "\n",
        "    # Iterating through all the classes mentioned in the classes list\n",
        "    for class_index, class_name in enumerate(classes_list):\n",
        "        print(f'Extracting Data of Class: {class_name}')\n",
        "\n",
        "        # Getting the list of video files present in the specific class name directory\n",
        "        files_list = os.listdir(os.path.join(dataset_directory, class_name))\n",
        "\n",
        "        # Iterating through all the files present in the files list\n",
        "        for file_name in files_list:\n",
        "\n",
        "            # Construct the complete video path\n",
        "            video_file_path = os.path.join(dataset_directory, class_name, file_name)\n",
        "\n",
        "            # Calling the frame_extraction method for every video file path\n",
        "            frames = frames_extraction(video_file_path)\n",
        "\n",
        "            # Appending the frames to a temporary list.\n",
        "            temp_features.extend(frames)\n",
        "            #print(len(temp_features))\n",
        "\n",
        "        # Adding randomly selected frames to the features list\n",
        "        features.extend(random.sample(temp_features, max_images_per_class))\n",
        "\n",
        "        # Adding Fixed number of labels to the labels list\n",
        "        labels.extend([class_index] * max_images_per_class)\n",
        "\n",
        "        # Emptying the temp_features list so it can be reused to store all frames of the next class.\n",
        "        temp_features.clear()\n",
        "\n",
        "    # Converting the features and labels lists to numpy arrays\n",
        "    features = np.asarray(features)\n",
        "    labels = np.array(labels)\n",
        "\n",
        "    return features, labels"
      ]
    },
    {
      "cell_type": "markdown",
      "metadata": {
        "id": "3jNu1QTX0G0q"
      },
      "source": [
        "Calling the **create_dataset** method which returns features and labels."
      ]
    },
    {
      "cell_type": "code",
      "execution_count": null,
      "metadata": {
        "colab": {
          "base_uri": "https://localhost:8080/"
        },
        "id": "ckAYgSriJN_R",
        "outputId": "9c1ec858-3cb5-4339-add1-005faa387150"
      },
      "outputs": [
        {
          "name": "stdout",
          "output_type": "stream",
          "text": [
            "Extracting Data of Class: eat\n"
          ]
        },
        {
          "ename": "FileNotFoundError",
          "evalue": "[WinError 3] The system cannot find the path specified: 'hmdb51_org\\\\eat'",
          "output_type": "error",
          "traceback": [
            "\u001b[1;31m---------------------------------------------------------------------------\u001b[0m",
            "\u001b[1;31mFileNotFoundError\u001b[0m                         Traceback (most recent call last)",
            "\u001b[1;32m<timed exec>\u001b[0m in \u001b[0;36m<module>\u001b[1;34m\u001b[0m\n",
            "\u001b[1;32m~\\AppData\\Local\\Temp/ipykernel_14404/2604396520.py\u001b[0m in \u001b[0;36mcreate_dataset\u001b[1;34m()\u001b[0m\n\u001b[0;32m     11\u001b[0m \u001b[1;33m\u001b[0m\u001b[0m\n\u001b[0;32m     12\u001b[0m         \u001b[1;31m# Getting the list of video files present in the specific class name directory\u001b[0m\u001b[1;33m\u001b[0m\u001b[1;33m\u001b[0m\u001b[0m\n\u001b[1;32m---> 13\u001b[1;33m         \u001b[0mfiles_list\u001b[0m \u001b[1;33m=\u001b[0m \u001b[0mos\u001b[0m\u001b[1;33m.\u001b[0m\u001b[0mlistdir\u001b[0m\u001b[1;33m(\u001b[0m\u001b[0mos\u001b[0m\u001b[1;33m.\u001b[0m\u001b[0mpath\u001b[0m\u001b[1;33m.\u001b[0m\u001b[0mjoin\u001b[0m\u001b[1;33m(\u001b[0m\u001b[0mdataset_directory\u001b[0m\u001b[1;33m,\u001b[0m \u001b[0mclass_name\u001b[0m\u001b[1;33m)\u001b[0m\u001b[1;33m)\u001b[0m\u001b[1;33m\u001b[0m\u001b[1;33m\u001b[0m\u001b[0m\n\u001b[0m\u001b[0;32m     14\u001b[0m \u001b[1;33m\u001b[0m\u001b[0m\n\u001b[0;32m     15\u001b[0m         \u001b[1;31m# Iterating through all the files present in the files list\u001b[0m\u001b[1;33m\u001b[0m\u001b[1;33m\u001b[0m\u001b[0m\n",
            "\u001b[1;31mFileNotFoundError\u001b[0m: [WinError 3] The system cannot find the path specified: 'hmdb51_org\\\\eat'"
          ]
        }
      ],
      "source": [
        "%%time\n",
        "features, labels = create_dataset()"
      ]
    },
    {
      "cell_type": "markdown",
      "metadata": {
        "id": "goRGrc8_0Usb"
      },
      "source": [
        "Now we will convert class labels to one hot encoded vectors."
      ]
    },
    {
      "cell_type": "code",
      "execution_count": null,
      "metadata": {
        "id": "KfcpuV6_Bd_T",
        "outputId": "2022bf72-40e9-4481-e96b-df3395d93b15"
      },
      "outputs": [
        {
          "ename": "NameError",
          "evalue": "name 'labels' is not defined",
          "output_type": "error",
          "traceback": [
            "\u001b[1;31m---------------------------------------------------------------------------\u001b[0m",
            "\u001b[1;31mNameError\u001b[0m                                 Traceback (most recent call last)",
            "\u001b[1;32m~\\AppData\\Local\\Temp/ipykernel_12728/24867546.py\u001b[0m in \u001b[0;36m<module>\u001b[1;34m\u001b[0m\n\u001b[0;32m      1\u001b[0m \u001b[1;31m# Using Keras's to_categorical method to convert labels into one-hot-encoded vectors\u001b[0m\u001b[1;33m\u001b[0m\u001b[1;33m\u001b[0m\u001b[0m\n\u001b[1;32m----> 2\u001b[1;33m \u001b[0mone_hot_encoded_labels\u001b[0m \u001b[1;33m=\u001b[0m \u001b[0mto_categorical\u001b[0m\u001b[1;33m(\u001b[0m\u001b[0mlabels\u001b[0m\u001b[1;33m)\u001b[0m\u001b[1;33m\u001b[0m\u001b[1;33m\u001b[0m\u001b[0m\n\u001b[0m",
            "\u001b[1;31mNameError\u001b[0m: name 'labels' is not defined"
          ]
        }
      ],
      "source": [
        "# Using Keras's to_categorical method to convert labels into one-hot-encoded vectors\n",
        "one_hot_encoded_labels = to_categorical(labels)"
      ]
    },
    {
      "cell_type": "markdown",
      "metadata": {
        "id": "PzRt7pP-0j5V"
      },
      "source": [
        "## **Step 4: Split the Data into Train and Test Set**\n",
        "Now we have 2 numpy arrays, one containing all images, the second one contains all class labels in one hot encoded format. Let’s split our data to create a training and a testing set. It’s important that you shuffle your data before the split which we have already done.\n"
      ]
    },
    {
      "cell_type": "code",
      "execution_count": null,
      "metadata": {
        "id": "UhkQjq1JJSO2",
        "outputId": "73e81309-32ac-4dca-cf46-c35f6728bf62"
      },
      "outputs": [
        {
          "ename": "NameError",
          "evalue": "name 'features' is not defined",
          "output_type": "error",
          "traceback": [
            "\u001b[1;31m---------------------------------------------------------------------------\u001b[0m",
            "\u001b[1;31mNameError\u001b[0m                                 Traceback (most recent call last)",
            "\u001b[1;32m~\\AppData\\Local\\Temp/ipykernel_14404/3804154418.py\u001b[0m in \u001b[0;36m<module>\u001b[1;34m\u001b[0m\n\u001b[1;32m----> 1\u001b[1;33m \u001b[0mfeatures_train\u001b[0m\u001b[1;33m,\u001b[0m \u001b[0mfeatures_test\u001b[0m\u001b[1;33m,\u001b[0m \u001b[0mlabels_train\u001b[0m\u001b[1;33m,\u001b[0m \u001b[0mlabels_test\u001b[0m \u001b[1;33m=\u001b[0m \u001b[0mtrain_test_split\u001b[0m\u001b[1;33m(\u001b[0m\u001b[0mfeatures\u001b[0m\u001b[1;33m,\u001b[0m \u001b[0mone_hot_encoded_labels\u001b[0m\u001b[1;33m,\u001b[0m \u001b[0mtest_size\u001b[0m \u001b[1;33m=\u001b[0m \u001b[1;36m0.2\u001b[0m\u001b[1;33m,\u001b[0m \u001b[0mshuffle\u001b[0m \u001b[1;33m=\u001b[0m \u001b[1;32mTrue\u001b[0m\u001b[1;33m,\u001b[0m \u001b[0mrandom_state\u001b[0m \u001b[1;33m=\u001b[0m \u001b[0mseed_constant\u001b[0m\u001b[1;33m)\u001b[0m\u001b[1;33m\u001b[0m\u001b[1;33m\u001b[0m\u001b[0m\n\u001b[0m",
            "\u001b[1;31mNameError\u001b[0m: name 'features' is not defined"
          ]
        }
      ],
      "source": [
        "features_train, features_test, labels_train, labels_test = train_test_split(features, one_hot_encoded_labels, test_size = 0.2, shuffle = True, random_state = seed_constant)"
      ]
    },
    {
      "cell_type": "markdown",
      "metadata": {
        "id": "x8Ui5hLP1P9Q"
      },
      "source": [
        "## **Step 5: Construct the Model**\n",
        "Now it’s time to create our CNN model, for this post, we're c reating a simple CNN Classification model with two CNN layers."
      ]
    },
    {
      "cell_type": "code",
      "execution_count": null,
      "metadata": {
        "colab": {
          "base_uri": "https://localhost:8080/"
        },
        "id": "h8cDSpfXJXwx",
        "outputId": "ad35b595-b1f0-441c-c075-8f92e863dba5"
      },
      "outputs": [
        {
          "name": "stdout",
          "output_type": "stream",
          "text": [
            "Model: \"sequential\"\n",
            "_________________________________________________________________\n",
            " Layer (type)                Output Shape              Param #   \n",
            "=================================================================\n",
            " conv2d (Conv2D)             (None, 62, 62, 64)        1792      \n",
            "                                                                 \n",
            " conv2d_1 (Conv2D)           (None, 60, 60, 64)        36928     \n",
            "                                                                 \n",
            " batch_normalization (BatchN  (None, 60, 60, 64)       256       \n",
            " ormalization)                                                   \n",
            "                                                                 \n",
            " max_pooling2d (MaxPooling2D  (None, 30, 30, 64)       0         \n",
            " )                                                               \n",
            "                                                                 \n",
            " global_average_pooling2d (G  (None, 64)               0         \n",
            " lobalAveragePooling2D)                                          \n",
            "                                                                 \n",
            " dense (Dense)               (None, 256)               16640     \n",
            "                                                                 \n",
            " batch_normalization_1 (Batc  (None, 256)              1024      \n",
            " hNormalization)                                                 \n",
            "                                                                 \n",
            " dense_1 (Dense)             (None, 6)                 1542      \n",
            "                                                                 \n",
            "=================================================================\n",
            "Total params: 58,182\n",
            "Trainable params: 57,542\n",
            "Non-trainable params: 640\n",
            "_________________________________________________________________\n",
            "Model Created Successfully!\n"
          ]
        }
      ],
      "source": [
        "# Let's create a function that will construct our model\n",
        "def create_model():\n",
        "\n",
        "    # We will use a Sequential model for model construction\n",
        "    model = Sequential()\n",
        "\n",
        "    # Defining The Model Architecture\n",
        "    model.add(Conv2D(filters = 64, kernel_size = (3, 3), activation = 'relu', input_shape = (image_height, image_width, 3)))\n",
        "    model.add(Conv2D(filters = 64, kernel_size = (3, 3), activation = 'relu'))\n",
        "    model.add(BatchNormalization())\n",
        "    model.add(MaxPooling2D(pool_size = (2, 2)))\n",
        "    model.add(GlobalAveragePooling2D())\n",
        "    model.add(Dense(256, activation = 'relu'))\n",
        "    model.add(BatchNormalization())\n",
        "    model.add(Dense(model_output_size, activation = 'softmax'))\n",
        "\n",
        "    # Printing the models summary\n",
        "    model.summary()\n",
        "\n",
        "    return model\n",
        "\n",
        "\n",
        "# Calling the create_model method\n",
        "model = create_model()\n",
        "\n",
        "print(\"Model Created Successfully!\")"
      ]
    },
    {
      "cell_type": "markdown",
      "metadata": {
        "id": "OOGUT5DbK7Sr"
      },
      "source": [
        "### **Check Model’s Structure:**\n",
        "Using the **plot_model** function you can check the structure of the final model, this is really helpful when you’re creating a complex network and you want to make sure you have constructed the network correctly."
      ]
    },
    {
      "cell_type": "code",
      "execution_count": null,
      "metadata": {
        "colab": {
          "base_uri": "https://localhost:8080/",
          "height": 976
        },
        "id": "hbSK_rKUK-xQ",
        "outputId": "2c398d93-b685-43db-8d4f-7b8e7581a5c4"
      },
      "outputs": [
        {
          "data": {
            "image/png": "[encoded data removed]",
            "text/plain": [
              "<IPython.core.display.Image object>"
            ]
          },
          "execution_count": 23,
          "metadata": {},
          "output_type": "execute_result"
        }
      ],
      "source": [
        "plot_model(model, to_file = 'model_structure_plot.png', show_shapes = True, show_layer_names = True)"
      ]
    },
    {
      "cell_type": "markdown",
      "metadata": {
        "id": "ZHKkZvkCOnMU"
      },
      "source": [
        "## **Step 6: Compile & Train the Model**\n",
        "\n",
        "\n",
        "Now let's start the training. Before we do that, we also need to complile the model.\n"
      ]
    },
    {
      "cell_type": "code",
      "execution_count": null,
      "metadata": {
        "colab": {
          "base_uri": "https://localhost:8080/"
        },
        "id": "Ju_Mq42yQhqN",
        "outputId": "32c5a94b-0de8-4f04-b40f-caacfcc212a6",
        "scrolled": true
      },
      "outputs": [
        {
          "name": "stdout",
          "output_type": "stream",
          "text": [
            "Epoch 1/10\n",
            "1920/1920 [==============================] - 38s 15ms/step - loss: 1.5176 - accuracy: 0.3796 - val_loss: 3.0490 - val_accuracy: 0.2604\n",
            "Epoch 2/10\n",
            "1920/1920 [==============================] - 28s 14ms/step - loss: 1.3749 - accuracy: 0.4382 - val_loss: 1.1609 - val_accuracy: 0.5375\n",
            "Epoch 3/10\n",
            "1920/1920 [==============================] - 28s 15ms/step - loss: 1.2488 - accuracy: 0.5070 - val_loss: 0.9691 - val_accuracy: 0.6297\n",
            "Epoch 4/10\n",
            "1920/1920 [==============================] - 28s 14ms/step - loss: 1.1258 - accuracy: 0.5626 - val_loss: 1.2327 - val_accuracy: 0.5714\n",
            "Epoch 5/10\n",
            "1920/1920 [==============================] - 28s 15ms/step - loss: 1.0008 - accuracy: 0.6168 - val_loss: 1.7403 - val_accuracy: 0.5375\n",
            "Epoch 6/10\n",
            "1920/1920 [==============================] - 27s 14ms/step - loss: 0.9433 - accuracy: 0.6380 - val_loss: 1.0094 - val_accuracy: 0.6589\n",
            "Epoch 7/10\n",
            "1920/1920 [==============================] - 29s 15ms/step - loss: 0.8863 - accuracy: 0.6633 - val_loss: 0.9640 - val_accuracy: 0.6870\n",
            "Epoch 8/10\n",
            "1920/1920 [==============================] - 27s 14ms/step - loss: 0.8261 - accuracy: 0.7017 - val_loss: 0.7010 - val_accuracy: 0.7719\n",
            "Epoch 9/10\n",
            "1920/1920 [==============================] - 28s 14ms/step - loss: 0.7264 - accuracy: 0.7320 - val_loss: 0.8805 - val_accuracy: 0.7464\n",
            "Epoch 10/10\n",
            "1920/1920 [==============================] - 28s 14ms/step - loss: 0.7047 - accuracy: 0.7456 - val_loss: 1.1898 - val_accuracy: 0.7151\n",
            "CPU times: user 4min 38s, sys: 18.7 s, total: 4min 57s\n",
            "Wall time: 4min 48s\n"
          ]
        }
      ],
      "source": [
        "%%time\n",
        "# Adding the Early Stopping Callback to the model which will continuously monitor the validation loss metric for every epoch.\n",
        "# If the models validation loss does not decrease after 15 consecutive epochs, the training will be stopped and the weight which reported the lowest validation loss will be retored in the model.\n",
        "early_stopping_callback = EarlyStopping(monitor = 'val_loss', patience = 15, mode = 'min', restore_best_weights = True)\n",
        "\n",
        "# Adding loss, optimizer and metrics values to the model.\n",
        "model.compile(loss = 'categorical_crossentropy', optimizer = 'Adam', metrics = [\"accuracy\"])\n",
        "\n",
        "# Start Training\n",
        "model_training_history = model.fit(x = features_train, y = labels_train, epochs = 100, batch_size = 4 , shuffle = True, validation_split = 0.2, callbacks = [early_stopping_callback])"
      ]
    },
    {
      "cell_type": "markdown",
      "metadata": {
        "id": "z1KR_kfz2oFl"
      },
      "source": [
        "### **Evaluating Your Trained Model**\n",
        "Evaluate our trained model on the feature's and label's test sets."
      ]
    },
    {
      "cell_type": "code",
      "execution_count": null,
      "metadata": {
        "colab": {
          "base_uri": "https://localhost:8080/"
        },
        "id": "74tGjokkmSHR",
        "outputId": "c1fd3b95-21b9-4cc4-d704-0ace2f1d143d"
      },
      "outputs": [
        {
          "name": "stdout",
          "output_type": "stream",
          "text": [
            "75/75 [==============================] - 1s 11ms/step - loss: 0.8920 - accuracy: 0.7333\n"
          ]
        }
      ],
      "source": [
        "model_evaluation_history = model.evaluate(features_test, labels_test)"
      ]
    },
    {
      "cell_type": "code",
      "execution_count": null,
      "metadata": {
        "id": "0hSxDkoBlNqu"
      },
      "outputs": [],
      "source": [
        "y_pred = model.predict(features_test)"
      ]
    },
    {
      "cell_type": "code",
      "execution_count": null,
      "metadata": {
        "colab": {
          "base_uri": "https://localhost:8080/"
        },
        "id": "1H71rf2KoIiG",
        "outputId": "73f7d180-59ea-4c84-bf20-ec1dd1039d2e"
      },
      "outputs": [
        {
          "name": "stdout",
          "output_type": "stream",
          "text": [
            "              precision    recall  f1-score   support\n",
            "\n",
            "         eat       0.96      0.56      0.70       421\n",
            "  fall_floor       0.62      0.84      0.72       401\n",
            "     fencing       0.74      0.92      0.82       372\n",
            "   flic_flac       0.86      0.89      0.88       406\n",
            "        golf       0.83      0.42      0.56       385\n",
            "   handstand       0.60      0.78      0.68       415\n",
            "\n",
            "    accuracy                           0.73      2400\n",
            "   macro avg       0.77      0.73      0.73      2400\n",
            "weighted avg       0.77      0.73      0.73      2400\n",
            "\n"
          ]
        }
      ],
      "source": [
        "y_pred=np.argmax(y_pred, axis=1)\n",
        "labels_test=np.argmax(labels_test, axis=1)\n",
        "print(classification_report(labels_test,y_pred,target_names=classes_list))"
      ]
    },
    {
      "cell_type": "code",
      "execution_count": null,
      "metadata": {
        "id": "rLo3T6xPuJdK"
      },
      "outputs": [],
      "source": [
        "cm = confusion_matrix(labels_test,y_pred)"
      ]
    },
    {
      "cell_type": "code",
      "execution_count": null,
      "metadata": {
        "colab": {
          "base_uri": "https://localhost:8080/"
        },
        "id": "dryJ5BSSvsvj",
        "outputId": "7a2e3754-28f0-4c82-ee39-4a77435636d4"
      },
      "outputs": [
        {
          "name": "stdout",
          "output_type": "stream",
          "text": [
            "Train Accuracy of Model is 0.7455729246139526 and Test Accuracy of Model is 0.7333333492279053\n"
          ]
        }
      ],
      "source": [
        "print('Train Accuracy of Model is {} and Test Accuracy of Model is {}'.format(model_training_history.history['accuracy'][-1],model_evaluation_history[1]))"
      ]
    },
    {
      "cell_type": "code",
      "execution_count": null,
      "metadata": {
        "colab": {
          "base_uri": "https://localhost:8080/",
          "height": 374
        },
        "id": "MKaPU9EXrJ6b",
        "outputId": "56afd65e-7f24-40da-db01-a46ff01fb4e2"
      },
      "outputs": [
        {
          "data": {
            "image/png": "[encoded data removed]",
            "text/plain": [
              "<Figure size 504x432 with 2 Axes>"
            ]
          },
          "metadata": {
            "needs_background": "light"
          },
          "output_type": "display_data"
        }
      ],
      "source": [
        "import seaborn as sns\n",
        "plt.figure(figsize=[7,6])\n",
        "sns.heatmap(cm,cmap=\"Reds\", annot=True, fmt='.0f')\n",
        "plt.show()"
      ]
    },
    {
      "cell_type": "code",
      "execution_count": null,
      "metadata": {
        "colab": {
          "base_uri": "https://localhost:8080/"
        },
        "id": "E1BpST9ErsHY",
        "outputId": "c7782c41-9d0a-4c34-c327-712242cdb297"
      },
      "outputs": [
        {
          "data": {
            "text/plain": [
              "array([3, 3, 5, ..., 3, 2, 3])"
            ]
          },
          "execution_count": 52,
          "metadata": {},
          "output_type": "execute_result"
        }
      ],
      "source": [
        "labels_test"
      ]
    },
    {
      "cell_type": "markdown",
      "metadata": {
        "id": "TGglb-k867iK"
      },
      "source": [
        "### **Save Your Model**\n",
        "We should now save our model for future runs."
      ]
    },
    {
      "cell_type": "code",
      "execution_count": null,
      "metadata": {
        "id": "GLfnP_czYudN"
      },
      "outputs": [],
      "source": [
        "# Creating a useful name for our model, incase of saving multiple models (OPTIONAL)\n",
        "date_time_format = '%Y_%m_%d__%H_%M_%S'\n",
        "current_date_time_dt = dt.datetime.now()\n",
        "current_date_time_string = dt.datetime.strftime(current_date_time_dt, date_time_format)\n",
        "model_evaluation_loss, model_evaluation_accuracy = model_evaluation_history\n",
        "model_name = f'Model___Date_Time_{current_date_time_string}___Loss_{model_evaluation_loss}___Accuracy_{model_evaluation_accuracy}.h5'\n",
        "\n",
        "# Saving your Model\n",
        "model.save(model_name)"
      ]
    },
    {
      "cell_type": "markdown",
      "metadata": {
        "id": "BSeAfu6uZdai"
      },
      "source": [
        "## **Step 7: Plot Model’s Loss & Accuracy Curves**\n",
        "Let's plot our loss and accuracy curves."
      ]
    },
    {
      "cell_type": "code",
      "execution_count": null,
      "metadata": {
        "id": "qrQnmVF7aZjQ"
      },
      "outputs": [],
      "source": [
        "def plot_metric(metric_name_1, metric_name_2, plot_name):\n",
        "    # Get Metric values using metric names as identifiers\n",
        "    metric_value_1 = model_training_history.history[metric_name_1]\n",
        "    metric_value_2 = model_training_history.history[metric_name_2]\n",
        "\n",
        "    # Constructing a range object which will be used as time\n",
        "    epochs = range(len(metric_value_1))\n",
        "\n",
        "    # Plotting the Graph\n",
        "    plt.plot(epochs, metric_value_1, 'blue', label = metric_name_1)\n",
        "    plt.plot(epochs, metric_value_2, 'red', label = metric_name_2)\n",
        "\n",
        "    # Adding title to the plot\n",
        "    plt.title(str(plot_name))\n",
        "    #Saving the Plot\n",
        "    plt.savefig(str(plot_name)+\".png\")\n",
        "    # Adding legend to the plot\n",
        "    plt.legend()"
      ]
    },
    {
      "cell_type": "code",
      "execution_count": null,
      "metadata": {
        "colab": {
          "base_uri": "https://localhost:8080/",
          "height": 281
        },
        "id": "tKABbscJblP_",
        "outputId": "557c10ff-c242-445e-dc7f-55b19b4547ef"
      },
      "outputs": [
        {
          "data": {
            "image/png": "[encoded data removed]",
            "text/plain": [
              "<Figure size 432x288 with 1 Axes>"
            ]
          },
          "metadata": {
            "needs_background": "light"
          },
          "output_type": "display_data"
        }
      ],
      "source": [
        "plot_metric('loss', 'val_loss', 'Total Loss vs Total Validation Loss')"
      ]
    },
    {
      "cell_type": "code",
      "execution_count": null,
      "metadata": {
        "colab": {
          "base_uri": "https://localhost:8080/",
          "height": 281
        },
        "id": "cTSpJP-bb7WV",
        "outputId": "6ee12723-1615-4451-c306-8c51ce0c72dc"
      },
      "outputs": [
        {
          "data": {
            "image/png": "[encoded data removed]",
            "text/plain": [
              "<Figure size 432x288 with 1 Axes>"
            ]
          },
          "metadata": {
            "needs_background": "light"
          },
          "output_type": "display_data"
        }
      ],
      "source": [
        "plot_metric('accuracy', 'val_accuracy', 'Total Accuracy vs Total Validation Accuracy')"
      ]
    },
    {
      "cell_type": "markdown",
      "metadata": {
        "id": "1OTbwVQaoZwK"
      },
      "source": [
        "## **Step 8: Make Predictions with the Model:**\n",
        "Now that I have created and trained the model it's time to test it's performance on some test videos.\n"
      ]
    },
    {
      "cell_type": "code",
      "execution_count": null,
      "metadata": {
        "id": "tuYNydSNPZjh"
      },
      "outputs": [],
      "source": [
        "def predict_on_uploaded_video(video_file_path, output_file_path, window_size):\n",
        "\n",
        "\n",
        "    predicted_labels_probabilities_deque = deque(maxlen = window_size)\n",
        "\n",
        "    # Reading the Video File using the VideoCapture Object\n",
        "    video_reader = cv2.VideoCapture(video_file_path)\n",
        "\n",
        "    # Getting the width and height of the video\n",
        "    original_video_width = int(video_reader.get(cv2.CAP_PROP_FRAME_WIDTH))\n",
        "    original_video_height = int(video_reader.get(cv2.CAP_PROP_FRAME_HEIGHT))\n",
        "\n",
        "    # Writing the Overlayed Video Files Using the VideoWriter Object\n",
        "    video_writer = cv2.VideoWriter(output_file_path, cv2.VideoWriter_fourcc('M', 'P', '4', 'V'), 24, (original_video_width, original_video_height))\n",
        "\n",
        "    while True:\n",
        "\n",
        "        # Reading The Frame\n",
        "        status, frame = video_reader.read()\n",
        "\n",
        "        if not status:\n",
        "            break\n",
        "\n",
        "        # Resize the Frame to fixed Dimensions\n",
        "        resized_frame = cv2.resize(frame, (image_height, image_width))\n",
        "\n",
        "        # Normalize the resized frame by dividing it with 255 so that each pixel value then lies between 0 and 1\n",
        "        normalized_frame = resized_frame / 255\n",
        "\n",
        "        # Passing the Image Normalized Frame to the model and receiving Predicted Probabilities.\n",
        "        predicted_labels_probabilities = model.predict(np.expand_dims(normalized_frame, axis = 0))[0]\n",
        "\n",
        "        # Appending predicted label probabilities to the deque object\n",
        "        predicted_labels_probabilities_deque.append(predicted_labels_probabilities)\n",
        "\n",
        "        # Assuring that the Deque is completely filled before starting the averaging process\n",
        "        if len(predicted_labels_probabilities_deque) == window_size:\n",
        "\n",
        "            # Converting Predicted Labels Probabilities Deque into Numpy array\n",
        "            predicted_labels_probabilities_np = np.array(predicted_labels_probabilities_deque)\n",
        "\n",
        "            # Calculating Average of Predicted Labels Probabilities Column Wise\n",
        "            predicted_labels_probabilities_averaged = predicted_labels_probabilities_np.mean(axis = 0)\n",
        "\n",
        "            # Converting the predicted probabilities into labels by returning the index of the maximum value.\n",
        "            predicted_label = np.argmax(predicted_labels_probabilities_averaged)\n",
        "\n",
        "            # Accessing The Class Name using predicted label.\n",
        "            predicted_class_name = classes_list[predicted_label]\n",
        "\n",
        "            # Overlaying Class Name Text Ontop of the Frame\n",
        "            cv2.putText(frame, predicted_class_name, (10, 30), cv2.FONT_HERSHEY_SIMPLEX, 1, (0, 0, 255), 2)\n",
        "\n",
        "        # Writing The Frame\n",
        "        video_writer.write(frame)\n",
        "\n",
        "    # Closing the VideoCapture and VideoWriter objects and releasing all resources held by them.\n",
        "    video_reader.release()\n",
        "    video_writer.release()"
      ]
    },
    {
      "cell_type": "code",
      "execution_count": null,
      "metadata": {
        "colab": {
          "base_uri": "https://localhost:8080/",
          "height": 73,
          "resources": {
            "http://localhost:8080/nbextensions/google.colab/files.js": {
              "data": "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",
              "headers": [
                [
                  "content-type",
                  "application/javascript"
                ]
              ],
              "ok": true,
              "status": 200,
              "status_text": ""
            }
          }
        },
        "id": "LIonkp3zu4IR",
        "outputId": "399bcf2c-65e7-4fa3-fe91-f014bf3258a8"
      },
      "outputs": [
        {
          "data": {
            "text/html": [
              "\n",
              "     <input type=\"file\" id=\"files-84ad25e7-af45-4367-b1cc-728172abbab5\" name=\"files[]\" multiple disabled\n",
              "        style=\"border:none\" />\n",
              "     <output id=\"result-84ad25e7-af45-4367-b1cc-728172abbab5\">\n",
              "      Upload widget is only available when the cell has been executed in the\n",
              "      current browser session. Please rerun this cell to enable.\n",
              "      </output>\n",
              "      <script src=\"/nbextensions/google.colab/files.js\"></script> "
            ],
            "text/plain": [
              "<IPython.core.display.HTML object>"
            ]
          },
          "metadata": {},
          "output_type": "display_data"
        },
        {
          "name": "stdout",
          "output_type": "stream",
          "text": [
            "Saving Marvel Studios Avengers- Infinity War Official Trailer.mp4 to Marvel Studios Avengers- Infinity War Official Trailer.mp4\n"
          ]
        }
      ],
      "source": [
        "from google.colab import files\n",
        "uploaded = files.upload()"
      ]
    },
    {
      "cell_type": "code",
      "execution_count": null,
      "metadata": {
        "id": "DdHu4TSqLOUz"
      },
      "outputs": [],
      "source": [
        "predict_on_uploaded_video(\"Marvel Studios Avengers- Infinity War Official Trailer.mp4\",\"Predict on Marvel Studios Avengers- Infinity War Official Trailer.mp4\",1)"
      ]
    }
  ],
  "metadata": {
    "accelerator": "GPU",
    "colab": {
      "provenance": []
    },
    "kernelspec": {
      "display_name": "Python 3 (ipykernel)",
      "language": "python",
      "name": "python3"
    },
    "language_info": {
      "codemirror_mode": {
        "name": "ipython",
        "version": 3
      },
      "file_extension": ".py",
      "mimetype": "text/x-python",
      "name": "python",
      "nbconvert_exporter": "python",
      "pygments_lexer": "ipython3",
      "version": "3.9.7"
    }
  },
  "nbformat": 4,
  "nbformat_minor": 0
}